{
  "nbformat": 4,
  "nbformat_minor": 0,
  "metadata": {
    "colab": {
      "provenance": [],
      "authorship_tag": "ABX9TyPnxcjqu/VlCtytXh45M5We",
      "include_colab_link": true
    },
    "kernelspec": {
      "name": "python3",
      "display_name": "Python 3"
    },
    "language_info": {
      "name": "python"
    }
  },
  "cells": [
    {
      "cell_type": "markdown",
      "metadata": {
        "id": "view-in-github",
        "colab_type": "text"
      },
      "source": [
        "<a href=\"https://colab.research.google.com/github/Carlos-Pessin/SparkSQL_Training/blob/main/SparkSQL.ipynb\" target=\"_parent\"><img src=\"https://colab.research.google.com/assets/colab-badge.svg\" alt=\"Open In Colab\"/></a>"
      ]
    },
    {
      "cell_type": "markdown",
      "source": [
        "# Inicializando"
      ],
      "metadata": {
        "id": "INwjt9SIOl27"
      }
    },
    {
      "cell_type": "code",
      "execution_count": null,
      "metadata": {
        "colab": {
          "base_uri": "https://localhost:8080/"
        },
        "id": "MPpO8-5WKP34",
        "outputId": "f01abcc9-51a5-4990-ac23-f2dc44b4a419"
      },
      "outputs": [
        {
          "output_type": "stream",
          "name": "stdout",
          "text": [
            "Mounted at /content/drive\n"
          ]
        }
      ],
      "source": [
        "from google.colab import drive\n",
        "drive.mount('/content/drive')"
      ]
    },
    {
      "cell_type": "code",
      "source": [
        "!pip install pyspark"
      ],
      "metadata": {
        "colab": {
          "base_uri": "https://localhost:8080/"
        },
        "id": "kpHhr1DGKV_o",
        "outputId": "70efb674-98cb-4185-942c-7dbd26eb61e3"
      },
      "execution_count": null,
      "outputs": [
        {
          "output_type": "stream",
          "name": "stdout",
          "text": [
            "Collecting pyspark\n",
            "  Downloading pyspark-3.5.2.tar.gz (317.3 MB)\n",
            "\u001b[2K     \u001b[90m━━━━━━━━━━━━━━━━━━━━━━━━━━━━━━━━━━━━━━━━\u001b[0m \u001b[32m317.3/317.3 MB\u001b[0m \u001b[31m4.2 MB/s\u001b[0m eta \u001b[36m0:00:00\u001b[0m\n",
            "\u001b[?25h  Preparing metadata (setup.py) ... \u001b[?25l\u001b[?25hdone\n",
            "Requirement already satisfied: py4j==0.10.9.7 in /usr/local/lib/python3.10/dist-packages (from pyspark) (0.10.9.7)\n",
            "Building wheels for collected packages: pyspark\n",
            "  Building wheel for pyspark (setup.py) ... \u001b[?25l\u001b[?25hdone\n",
            "  Created wheel for pyspark: filename=pyspark-3.5.2-py2.py3-none-any.whl size=317812365 sha256=0c85b540fe62669dbe55e1d29eda22a5c8d83e45317d8654e75d27c6437c8e62\n",
            "  Stored in directory: /root/.cache/pip/wheels/34/34/bd/03944534c44b677cd5859f248090daa9fb27b3c8f8e5f49574\n",
            "Successfully built pyspark\n",
            "Installing collected packages: pyspark\n",
            "Successfully installed pyspark-3.5.2\n"
          ]
        }
      ]
    },
    {
      "cell_type": "code",
      "source": [
        "from pyspark.sql import SparkSession\n",
        "\n",
        "spark = (\n",
        "    SparkSession.builder\n",
        "      .config('spark.ui.port', '4050')\n",
        "      .appName(\"SparkUI Introdução\")\n",
        "      .getOrCreate()\n",
        ")"
      ],
      "metadata": {
        "id": "5I-ig3M-Kc4u"
      },
      "execution_count": null,
      "outputs": []
    },
    {
      "cell_type": "code",
      "source": [
        "from pyspark.sql.functions import col, filter\n",
        "from pyspark.sql.types import StructType, StructField, IntegerType, DoubleType, StringType, TimestampType"
      ],
      "metadata": {
        "id": "c3y_rUIzKq4e"
      },
      "execution_count": null,
      "outputs": []
    },
    {
      "cell_type": "code",
      "source": [
        "\n",
        "schema_remetente_destinatario = StructType([\n",
        "    StructField('nome', StringType()),\n",
        "    StructField('banco', StringType()),\n",
        "    StructField('tipo', StringType()),\n",
        "])\n",
        "\n",
        "\n",
        "schema_base_pix = StructType([\n",
        "    StructField('id_transacao', IntegerType()),\n",
        "    StructField('valor', DoubleType()),\n",
        "    StructField('remetente', schema_remetente_destinatario),\n",
        "    StructField('destinatario', schema_remetente_destinatario),\n",
        "    StructField('transaction_date', TimestampType()),\n",
        "    StructField('chave_pix', StringType()),\n",
        "    StructField('fraude', IntegerType())\n",
        "])"
      ],
      "metadata": {
        "id": "2GzG1a8vKlq2"
      },
      "execution_count": null,
      "outputs": []
    },
    {
      "cell_type": "code",
      "source": [
        "df = spark.read.json(\n",
        "    '/content/drive/MyDrive/Colab Notebooks/Formação em dados/Spark/Datasets/pix_transactions.json',\n",
        "    schema=schema_base_pix,\n",
        "    timestampFormat=\"yyyy-MM-dd\"\n",
        ")"
      ],
      "metadata": {
        "id": "fqNjSUQiMuUh"
      },
      "execution_count": null,
      "outputs": []
    },
    {
      "cell_type": "code",
      "source": [
        "spark.read.json(\n",
        "    '/content/drive/MyDrive/Colab Notebooks/Formação em dados/Spark/Datasets/pix_transactions.json',\n",
        "    schema=schema_base_pix,\n",
        "    timestampFormat=\"yyyy-MM-dd\"\n",
        ").createOrReplaceTempView('pix_transactions')"
      ],
      "metadata": {
        "id": "_f6g2pk5Kpmv"
      },
      "execution_count": null,
      "outputs": []
    },
    {
      "cell_type": "markdown",
      "source": [
        "# Basic Query's"
      ],
      "metadata": {
        "id": "ATnxZVinOgNS"
      }
    },
    {
      "cell_type": "code",
      "source": [
        "spark.sql(\n",
        "    \"\"\"\n",
        "    SELECT\n",
        "      transaction_date,\n",
        "      valor,\n",
        "      destinatario.nome AS nome_destinatario,\n",
        "      remetente.nome AS nome_remetente\n",
        "    FROM pix_transactions\n",
        "    LIMIT 10\n",
        "    \"\"\"\n",
        ").show()"
      ],
      "metadata": {
        "colab": {
          "base_uri": "https://localhost:8080/"
        },
        "id": "WxHyZvfnLCjo",
        "outputId": "c4107017-fce1-4124-c925-b887c3ed8a98"
      },
      "execution_count": null,
      "outputs": [
        {
          "output_type": "stream",
          "name": "stdout",
          "text": [
            "+-------------------+-------+--------------------+------------------+\n",
            "|   transaction_date|  valor|   nome_destinatario|    nome_remetente|\n",
            "+-------------------+-------+--------------------+------------------+\n",
            "|2022-03-19 00:00:00|   7.05|       Gabriel Cunha|Jonathan Gonsalves|\n",
            "|2021-01-26 00:00:00|  37.28|         Diego Souza|Jonathan Gonsalves|\n",
            "|2022-05-31 00:00:00| 282.73|        Nicole Nunes|Jonathan Gonsalves|\n",
            "|2022-07-04 00:00:00|8447.92|Maria Fernanda Ca...|Jonathan Gonsalves|\n",
            "|2021-09-11 00:00:00|  58.51|        Isabel Silva|Jonathan Gonsalves|\n",
            "|2022-02-11 00:00:00|6655.12|    Anthony Carvalho|Jonathan Gonsalves|\n",
            "|2022-05-10 00:00:00|9912.25|      Eloah Monteiro|Jonathan Gonsalves|\n",
            "|2022-08-28 00:00:00|8212.91|        Sophie Rocha|Jonathan Gonsalves|\n",
            "|2022-03-23 00:00:00|  91.71|      Pietro Ribeiro|Jonathan Gonsalves|\n",
            "|2021-09-18 00:00:00|  44.29|      Eloah Teixeira|Jonathan Gonsalves|\n",
            "+-------------------+-------+--------------------+------------------+\n",
            "\n"
          ]
        }
      ]
    },
    {
      "cell_type": "code",
      "source": [
        "group_sql = spark.sql(\n",
        "    \"\"\"\n",
        "    SELECT\n",
        "      chave_pix,\n",
        "      count(*) AS qtd_transacoes\n",
        "    FROM pix_transactions\n",
        "    GROUP BY chave_pix\n",
        "    ORDER BY qtd_transacoes DESC\n",
        "    \"\"\"\n",
        ")\n",
        "group_sql.show()"
      ],
      "metadata": {
        "colab": {
          "base_uri": "https://localhost:8080/"
        },
        "id": "6GGsyX4NL5W2",
        "outputId": "1d1e4a86-ce2d-4f39-fb5a-78d7fa7cde33"
      },
      "execution_count": null,
      "outputs": [
        {
          "output_type": "stream",
          "name": "stdout",
          "text": [
            "+---------+--------------+\n",
            "|chave_pix|qtd_transacoes|\n",
            "+---------+--------------+\n",
            "|      cpf|         25179|\n",
            "|aleatoria|         25045|\n",
            "|    email|         24935|\n",
            "|  celular|         24841|\n",
            "+---------+--------------+\n",
            "\n"
          ]
        }
      ]
    },
    {
      "cell_type": "code",
      "source": [
        "group_df = df.groupBy('chave_pix').count().orderBy('count', ascending=False)\n",
        "group_df.show()"
      ],
      "metadata": {
        "colab": {
          "base_uri": "https://localhost:8080/"
        },
        "id": "8e3bn25BMxd-",
        "outputId": "2840c671-6596-456a-ca3d-5615fa860a6f"
      },
      "execution_count": null,
      "outputs": [
        {
          "output_type": "stream",
          "name": "stdout",
          "text": [
            "+---------+-----+\n",
            "|chave_pix|count|\n",
            "+---------+-----+\n",
            "|      cpf|25179|\n",
            "|aleatoria|25045|\n",
            "|    email|24935|\n",
            "|  celular|24841|\n",
            "+---------+-----+\n",
            "\n"
          ]
        }
      ]
    },
    {
      "cell_type": "markdown",
      "source": [
        "Evaluating processing structure"
      ],
      "metadata": {
        "id": "Pg2Z7oG9NFR_"
      }
    },
    {
      "cell_type": "code",
      "source": [
        "group_sql.explain(),\n",
        "group_df.explain()"
      ],
      "metadata": {
        "colab": {
          "base_uri": "https://localhost:8080/"
        },
        "id": "NztdxBzOM5dg",
        "outputId": "361f0391-6c2c-488c-a62e-048daf43f2d6"
      },
      "execution_count": null,
      "outputs": [
        {
          "output_type": "stream",
          "name": "stdout",
          "text": [
            "== Physical Plan ==\n",
            "AdaptiveSparkPlan isFinalPlan=false\n",
            "+- Sort [qtd_transacoes#216L DESC NULLS LAST], true, 0\n",
            "   +- Exchange rangepartitioning(qtd_transacoes#216L DESC NULLS LAST, 200), ENSURE_REQUIREMENTS, [plan_id=280]\n",
            "      +- HashAggregate(keys=[chave_pix#70], functions=[count(1)])\n",
            "         +- Exchange hashpartitioning(chave_pix#70, 200), ENSURE_REQUIREMENTS, [plan_id=277]\n",
            "            +- HashAggregate(keys=[chave_pix#70], functions=[partial_count(1)])\n",
            "               +- FileScan json [chave_pix#70] Batched: false, DataFilters: [], Format: JSON, Location: InMemoryFileIndex(1 paths)[file:/content/drive/MyDrive/Colab Notebooks/Formação em dados/Spark/..., PartitionFilters: [], PushedFilters: [], ReadSchema: struct<chave_pix:string>\n",
            "\n",
            "\n",
            "== Physical Plan ==\n",
            "AdaptiveSparkPlan isFinalPlan=false\n",
            "+- Sort [count#254L DESC NULLS LAST], true, 0\n",
            "   +- Exchange rangepartitioning(count#254L DESC NULLS LAST, 200), ENSURE_REQUIREMENTS, [plan_id=300]\n",
            "      +- HashAggregate(keys=[chave_pix#237], functions=[count(1)])\n",
            "         +- Exchange hashpartitioning(chave_pix#237, 200), ENSURE_REQUIREMENTS, [plan_id=297]\n",
            "            +- HashAggregate(keys=[chave_pix#237], functions=[partial_count(1)])\n",
            "               +- FileScan json [chave_pix#237] Batched: false, DataFilters: [], Format: JSON, Location: InMemoryFileIndex(1 paths)[file:/content/drive/MyDrive/Colab Notebooks/Formação em dados/Spark/..., PartitionFilters: [], PushedFilters: [], ReadSchema: struct<chave_pix:string>\n",
            "\n",
            "\n"
          ]
        }
      ]
    },
    {
      "cell_type": "markdown",
      "source": [
        "Same processing"
      ],
      "metadata": {
        "id": "Q9lctaptNBoJ"
      }
    },
    {
      "cell_type": "code",
      "source": [
        "spark.sql(\n",
        "    \"\"\"\n",
        "    SELECT\n",
        "      chave_pix,\n",
        "      round(avg(valor), 2) AS valor_medio\n",
        "    FROM pix_transactions\n",
        "    GROUP BY chave_pix\n",
        "    ORDER BY valor_medio DESC\n",
        "    \"\"\"\n",
        ").show()"
      ],
      "metadata": {
        "colab": {
          "base_uri": "https://localhost:8080/"
        },
        "id": "a93E8sJRN3NF",
        "outputId": "35c465cb-f91c-4564-e72f-853f5e4b44a0"
      },
      "execution_count": null,
      "outputs": [
        {
          "output_type": "stream",
          "name": "stdout",
          "text": [
            "+---------+-----------+\n",
            "|chave_pix|valor_medio|\n",
            "+---------+-----------+\n",
            "|aleatoria|   12217.23|\n",
            "|  celular|   12152.68|\n",
            "|      cpf|   11946.07|\n",
            "|    email|   11868.02|\n",
            "+---------+-----------+\n",
            "\n"
          ]
        }
      ]
    },
    {
      "cell_type": "markdown",
      "source": [
        "# CTE"
      ],
      "metadata": {
        "id": "0SyH4UCkOvcH"
      }
    },
    {
      "cell_type": "code",
      "source": [
        "spark.sql(\n",
        "    \"\"\"\n",
        "    SELECT\n",
        "      destinatario.banco,\n",
        "      valor,\n",
        "      row_number() OVER (PARTITION BY destinatario.banco ORDER BY valor DESC) AS row_number\n",
        "    FROM pix_transactions\n",
        "    LIMIT 10\n",
        "    \"\"\"\n",
        ").show()"
      ],
      "metadata": {
        "colab": {
          "base_uri": "https://localhost:8080/"
        },
        "id": "_a1b9X_iOxnR",
        "outputId": "bd71ee76-18a9-4e7f-90ad-ffa8b3fa2650"
      },
      "execution_count": null,
      "outputs": [
        {
          "output_type": "stream",
          "name": "stdout",
          "text": [
            "+-----+--------+----------+\n",
            "|banco|   valor|row_number|\n",
            "+-----+--------+----------+\n",
            "|  BTG|99946.78|         1|\n",
            "|  BTG| 99913.9|         2|\n",
            "|  BTG|99873.58|         3|\n",
            "|  BTG|99865.12|         4|\n",
            "|  BTG|99840.68|         5|\n",
            "|  BTG|99832.08|         6|\n",
            "|  BTG| 99829.9|         7|\n",
            "|  BTG|99814.23|         8|\n",
            "|  BTG|99813.42|         9|\n",
            "|  BTG|99785.91|        10|\n",
            "+-----+--------+----------+\n",
            "\n"
          ]
        }
      ]
    },
    {
      "cell_type": "markdown",
      "source": [
        "2 Biggest transactions per bank"
      ],
      "metadata": {
        "id": "271mM5cqyNsg"
      }
    },
    {
      "cell_type": "code",
      "source": [
        "spark.sql(\n",
        "    \"\"\"\n",
        "    WITH cte_base_window(\n",
        "    SELECT\n",
        "      destinatario.banco AS dest_banco,\n",
        "      valor,\n",
        "      row_number() OVER (PARTITION BY destinatario.banco ORDER BY valor DESC) AS row_number\n",
        "    FROM pix_transactions\n",
        "    ) SELECT\n",
        "        dest_banco,\n",
        "        valor\n",
        "      FROM cte_base_window\n",
        "      WHERE row_number in (1,2)\n",
        "\n",
        "    \"\"\"\n",
        ").show()"
      ],
      "metadata": {
        "colab": {
          "base_uri": "https://localhost:8080/"
        },
        "id": "f1Ovbdc6PwLE",
        "outputId": "ebc75ef3-19f6-4733-d733-9e9f0d60fd6b"
      },
      "execution_count": null,
      "outputs": [
        {
          "output_type": "stream",
          "name": "stdout",
          "text": [
            "+----------+--------+\n",
            "|dest_banco|   valor|\n",
            "+----------+--------+\n",
            "|       BTG|99946.78|\n",
            "|       BTG| 99913.9|\n",
            "|  Bradesco|99910.87|\n",
            "|  Bradesco|99887.88|\n",
            "|        C6|99980.03|\n",
            "|        C6|99964.99|\n",
            "|     Caixa|99969.06|\n",
            "|     Caixa|99933.09|\n",
            "|      Itau|99999.54|\n",
            "|      Itau|99951.02|\n",
            "|    Nubank|99935.45|\n",
            "|    Nubank|99914.35|\n",
            "|        XP|99961.28|\n",
            "|        XP|99934.01|\n",
            "+----------+--------+\n",
            "\n"
          ]
        }
      ]
    },
    {
      "cell_type": "code",
      "source": [
        "df_row_number = spark.sql(\n",
        "    \"\"\"\n",
        "    SELECT\n",
        "      destinatario.banco,\n",
        "      valor,\n",
        "      row_number() OVER (PARTITION BY destinatario.banco ORDER BY valor DESC) AS row_number\n",
        "    FROM pix_transactions\n",
        "    \"\"\"\n",
        ")\n",
        "df_row_number.show()"
      ],
      "metadata": {
        "colab": {
          "base_uri": "https://localhost:8080/"
        },
        "id": "8rmk6vHJSSXx",
        "outputId": "36cbbb7c-5f9e-42cf-d869-bc005abc5b14"
      },
      "execution_count": null,
      "outputs": [
        {
          "output_type": "stream",
          "name": "stdout",
          "text": [
            "+-----+--------+----------+\n",
            "|banco|   valor|row_number|\n",
            "+-----+--------+----------+\n",
            "|  BTG|99946.78|         1|\n",
            "|  BTG| 99913.9|         2|\n",
            "|  BTG|99873.58|         3|\n",
            "|  BTG|99865.12|         4|\n",
            "|  BTG|99840.68|         5|\n",
            "|  BTG|99832.08|         6|\n",
            "|  BTG| 99829.9|         7|\n",
            "|  BTG|99814.23|         8|\n",
            "|  BTG|99813.42|         9|\n",
            "|  BTG|99785.91|        10|\n",
            "|  BTG|99754.22|        11|\n",
            "|  BTG|99750.69|        12|\n",
            "|  BTG|99724.27|        13|\n",
            "|  BTG|99711.66|        14|\n",
            "|  BTG|99708.06|        15|\n",
            "|  BTG|99684.07|        16|\n",
            "|  BTG|99677.36|        17|\n",
            "|  BTG|99648.38|        18|\n",
            "|  BTG|99635.23|        19|\n",
            "|  BTG|99628.33|        20|\n",
            "+-----+--------+----------+\n",
            "only showing top 20 rows\n",
            "\n"
          ]
        }
      ]
    },
    {
      "cell_type": "markdown",
      "source": [
        "It's possible to interact with both sql and pyspark functions"
      ],
      "metadata": {
        "id": "ei01kbqoyS80"
      }
    },
    {
      "cell_type": "code",
      "source": [
        "df_row_number.filter(col('row_number').isin(1,2)).show()"
      ],
      "metadata": {
        "colab": {
          "base_uri": "https://localhost:8080/"
        },
        "id": "g963TfZ3Siar",
        "outputId": "f9935803-3f2a-4b9d-f761-8d3556c34cd0"
      },
      "execution_count": null,
      "outputs": [
        {
          "output_type": "stream",
          "name": "stdout",
          "text": [
            "+--------+--------+----------+\n",
            "|   banco|   valor|row_number|\n",
            "+--------+--------+----------+\n",
            "|     BTG|99946.78|         1|\n",
            "|     BTG| 99913.9|         2|\n",
            "|Bradesco|99910.87|         1|\n",
            "|Bradesco|99887.88|         2|\n",
            "|      C6|99980.03|         1|\n",
            "|      C6|99964.99|         2|\n",
            "|   Caixa|99969.06|         1|\n",
            "|   Caixa|99933.09|         2|\n",
            "|    Itau|99999.54|         1|\n",
            "|    Itau|99951.02|         2|\n",
            "|  Nubank|99935.45|         1|\n",
            "|  Nubank|99914.35|         2|\n",
            "|      XP|99961.28|         1|\n",
            "|      XP|99934.01|         2|\n",
            "+--------+--------+----------+\n",
            "\n"
          ]
        }
      ]
    }
  ]
}